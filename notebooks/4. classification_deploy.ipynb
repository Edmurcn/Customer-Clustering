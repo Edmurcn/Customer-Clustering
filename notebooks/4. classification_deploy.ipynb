{
 "cells": [
  {
   "cell_type": "markdown",
   "metadata": {},
   "source": [
    "### 5 - Implementação da Classificação\n",
    "\n",
    "- Nesta etapa, temos como objetivo implementar o processo de classificação de novos clientes, afim de personalizar as entregas do marketing para o mesmo, de forma automatizada. Sendo assim, vamo utilizar ferramentas de **Machine Learnig** da biblioteca **ScikitLearn**, as quais envolvem **Classificação de múltiplas classes** e métricas de seleção de modelos."
   ]
  },
  {
   "cell_type": "code",
   "execution_count": 1,
   "metadata": {},
   "outputs": [],
   "source": [
    "#Importação das bibliotecas\n",
    "\n",
    "import pandas as pd  \n",
    "import numpy as np \n",
    "import matplotlib.pyplot as plt\n",
    "import seaborn as sns \n",
    "\n",
    "#Importação dos modelos de classificação\n",
    "from sklearn.multiclass import OneVsRestClassifier\n",
    "from sklearn.ensemble import RandomForestClassifier\n",
    "from sklearn.linear_model import LogisticRegression\n",
    "from sklearn.tree import DecisionTreeClassifier\n",
    "from sklearn.svm import LinearSVC\n",
    "from xgboost import XGBClassifier\n",
    "from sklearn.naive_bayes import GaussianNB"
   ]
  },
  {
   "cell_type": "code",
   "execution_count": 2,
   "metadata": {},
   "outputs": [],
   "source": [
    "# Carregando a biblioteca local\n",
    "import sys\n",
    "import os\n",
    "sys.path.append(os.path.abspath(\"/home/edmurcn/Documentos/MeusProjetos/Customer-Clustering/src\")) \n",
    "import model_train"
   ]
  },
  {
   "cell_type": "code",
   "execution_count": 3,
   "metadata": {},
   "outputs": [
    {
     "data": {
      "text/html": [
       "<div>\n",
       "<style scoped>\n",
       "    .dataframe tbody tr th:only-of-type {\n",
       "        vertical-align: middle;\n",
       "    }\n",
       "\n",
       "    .dataframe tbody tr th {\n",
       "        vertical-align: top;\n",
       "    }\n",
       "\n",
       "    .dataframe thead th {\n",
       "        text-align: right;\n",
       "    }\n",
       "</style>\n",
       "<table border=\"1\" class=\"dataframe\">\n",
       "  <thead>\n",
       "    <tr style=\"text-align: right;\">\n",
       "      <th></th>\n",
       "      <th>Sex</th>\n",
       "      <th>Marital status</th>\n",
       "      <th>Age</th>\n",
       "      <th>Education</th>\n",
       "      <th>Income</th>\n",
       "      <th>Occupation</th>\n",
       "      <th>Settlement size</th>\n",
       "      <th>Label</th>\n",
       "    </tr>\n",
       "  </thead>\n",
       "  <tbody>\n",
       "    <tr>\n",
       "      <th>0</th>\n",
       "      <td>0</td>\n",
       "      <td>0</td>\n",
       "      <td>67</td>\n",
       "      <td>2</td>\n",
       "      <td>124670</td>\n",
       "      <td>1</td>\n",
       "      <td>2</td>\n",
       "      <td>0</td>\n",
       "    </tr>\n",
       "    <tr>\n",
       "      <th>1</th>\n",
       "      <td>1</td>\n",
       "      <td>1</td>\n",
       "      <td>22</td>\n",
       "      <td>1</td>\n",
       "      <td>150773</td>\n",
       "      <td>1</td>\n",
       "      <td>2</td>\n",
       "      <td>2</td>\n",
       "    </tr>\n",
       "    <tr>\n",
       "      <th>2</th>\n",
       "      <td>0</td>\n",
       "      <td>0</td>\n",
       "      <td>49</td>\n",
       "      <td>1</td>\n",
       "      <td>89210</td>\n",
       "      <td>0</td>\n",
       "      <td>0</td>\n",
       "      <td>1</td>\n",
       "    </tr>\n",
       "    <tr>\n",
       "      <th>3</th>\n",
       "      <td>0</td>\n",
       "      <td>0</td>\n",
       "      <td>45</td>\n",
       "      <td>1</td>\n",
       "      <td>171565</td>\n",
       "      <td>1</td>\n",
       "      <td>1</td>\n",
       "      <td>3</td>\n",
       "    </tr>\n",
       "    <tr>\n",
       "      <th>4</th>\n",
       "      <td>0</td>\n",
       "      <td>0</td>\n",
       "      <td>53</td>\n",
       "      <td>1</td>\n",
       "      <td>149031</td>\n",
       "      <td>1</td>\n",
       "      <td>1</td>\n",
       "      <td>3</td>\n",
       "    </tr>\n",
       "  </tbody>\n",
       "</table>\n",
       "</div>"
      ],
      "text/plain": [
       "   Sex  Marital status  Age  Education  Income  Occupation  Settlement size  \\\n",
       "0    0               0   67          2  124670           1                2   \n",
       "1    1               1   22          1  150773           1                2   \n",
       "2    0               0   49          1   89210           0                0   \n",
       "3    0               0   45          1  171565           1                1   \n",
       "4    0               0   53          1  149031           1                1   \n",
       "\n",
       "   Label  \n",
       "0      0  \n",
       "1      2  \n",
       "2      1  \n",
       "3      3  \n",
       "4      3  "
      ]
     },
     "execution_count": 3,
     "metadata": {},
     "output_type": "execute_result"
    }
   ],
   "source": [
    "# Importação do conjunto com a coluna de labels\n",
    "df = pd.read_csv(\"/home/edmurcn/Documentos/MeusProjetos/Customer-Clustering/data/dados_label.csv\", header=0)\n",
    "df.head()"
   ]
  },
  {
   "cell_type": "markdown",
   "metadata": {},
   "source": [
    "- Apesar do processo de tratamento e avaliação dos dados já ter sido realizado, pode-se avaliar a necessidade, ao longo dessa etapa, de tratar as colunas com dados categóricos com a técnica de **One Hot Enconder**."
   ]
  },
  {
   "cell_type": "code",
   "execution_count": 4,
   "metadata": {},
   "outputs": [],
   "source": [
    "#Transformando os dados em arrays\n",
    "data = df.to_numpy()\n",
    "X = data[:, :-1]\n",
    "y = data[:,-1]"
   ]
  },
  {
   "cell_type": "markdown",
   "metadata": {},
   "source": [
    "Para o treinamento e seleção dos modelos, utilizamos um módulo criado localmente. Nele serão treinado os modelos em conjuntos de treino e aplicado a conjuntos de testes para a avaliação das métricas, como seleção iremos julgar as medidas da **Acurácia**, **F1 Score Micro**, **AUC** e o tempo de treinamento. Os resultados estão dispostos abaixo: "
   ]
  },
  {
   "cell_type": "code",
   "execution_count": 5,
   "metadata": {},
   "outputs": [
    {
     "data": {
      "text/html": [
       "<div>\n",
       "<style scoped>\n",
       "    .dataframe tbody tr th:only-of-type {\n",
       "        vertical-align: middle;\n",
       "    }\n",
       "\n",
       "    .dataframe tbody tr th {\n",
       "        vertical-align: top;\n",
       "    }\n",
       "\n",
       "    .dataframe thead th {\n",
       "        text-align: right;\n",
       "    }\n",
       "</style>\n",
       "<table border=\"1\" class=\"dataframe\">\n",
       "  <thead>\n",
       "    <tr style=\"text-align: right;\">\n",
       "      <th></th>\n",
       "      <th>Models</th>\n",
       "      <th>Accuracy</th>\n",
       "      <th>F1_micro</th>\n",
       "      <th>AUC_OVR</th>\n",
       "      <th>Training_time</th>\n",
       "    </tr>\n",
       "  </thead>\n",
       "  <tbody>\n",
       "    <tr>\n",
       "      <th>0</th>\n",
       "      <td>Random Forest</td>\n",
       "      <td>0.9715</td>\n",
       "      <td>0.9715</td>\n",
       "      <td>0.999462</td>\n",
       "      <td>2.43040</td>\n",
       "    </tr>\n",
       "    <tr>\n",
       "      <th>1</th>\n",
       "      <td>Logistic Regression</td>\n",
       "      <td>0.4915</td>\n",
       "      <td>0.4915</td>\n",
       "      <td>0.703748</td>\n",
       "      <td>0.30810</td>\n",
       "    </tr>\n",
       "    <tr>\n",
       "      <th>2</th>\n",
       "      <td>Decision Tree</td>\n",
       "      <td>0.9760</td>\n",
       "      <td>0.9725</td>\n",
       "      <td>0.984322</td>\n",
       "      <td>0.05404</td>\n",
       "    </tr>\n",
       "    <tr>\n",
       "      <th>3</th>\n",
       "      <td>XGBoost</td>\n",
       "      <td>0.9760</td>\n",
       "      <td>0.9760</td>\n",
       "      <td>0.999608</td>\n",
       "      <td>2.44037</td>\n",
       "    </tr>\n",
       "    <tr>\n",
       "      <th>4</th>\n",
       "      <td>Naive Bayes</td>\n",
       "      <td>0.7485</td>\n",
       "      <td>0.7485</td>\n",
       "      <td>0.941661</td>\n",
       "      <td>0.05271</td>\n",
       "    </tr>\n",
       "  </tbody>\n",
       "</table>\n",
       "</div>"
      ],
      "text/plain": [
       "                Models  Accuracy  F1_micro   AUC_OVR  Training_time\n",
       "0        Random Forest    0.9715    0.9715  0.999462        2.43040\n",
       "1  Logistic Regression    0.4915    0.4915  0.703748        0.30810\n",
       "2        Decision Tree    0.9760    0.9725  0.984322        0.05404\n",
       "3              XGBoost    0.9760    0.9760  0.999608        2.44037\n",
       "4          Naive Bayes    0.7485    0.7485  0.941661        0.05271"
      ]
     },
     "execution_count": 5,
     "metadata": {},
     "output_type": "execute_result"
    }
   ],
   "source": [
    "# Seleção dos modelos\n",
    "\n",
    "models = {\"Random Forest\": RandomForestClassifier(random_state=0),\n",
    "          \"Logistic Regression\": LogisticRegression(multi_class=\"ovr\"),\n",
    "          \"Decision Tree\": DecisionTreeClassifier(),\n",
    "          \"XGBoost\": XGBClassifier(random_state=0),\n",
    "           \"Naive Bayes\": GaussianNB() }\n",
    "\n",
    "scores = model_train.evaluation_model_multclass_classifier(models, X, y)\n",
    "scores"
   ]
  },
  {
   "cell_type": "markdown",
   "metadata": {},
   "source": [
    "Foram elaborados outros gráficos para evidenciar a performance dos modelos, [Gráfico das Métricas](/home/edmurcn/Documentos/MeusProjetos/Customer-Clustering/imagens/metrics.png) e [Gŕaficos Complementares](/home/edmurcn/Documentos/MeusProjetos/Customer-Clustering/imagens/models_performance.png). Desse modo, observamos que os modelos se adaptam bem ao conjunto, alguns com acertos muito próximos de 100%. Mas o modelo com melhor performance, segundo as métricas, foi o **XGBoost**. "
   ]
  }
 ],
 "metadata": {
  "kernelspec": {
   "display_name": "base",
   "language": "python",
   "name": "python3"
  },
  "language_info": {
   "codemirror_mode": {
    "name": "ipython",
    "version": 3
   },
   "file_extension": ".py",
   "mimetype": "text/x-python",
   "name": "python",
   "nbconvert_exporter": "python",
   "pygments_lexer": "ipython3",
   "version": "3.11.3"
  }
 },
 "nbformat": 4,
 "nbformat_minor": 2
}
