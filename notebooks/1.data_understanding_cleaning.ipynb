{
 "cells": [
  {
   "cell_type": "markdown",
   "metadata": {},
   "source": [
    "### 1 - Data Understanding and Cleaning\n",
    "\n",
    "- Nesta etapa, vamos ter o primeiro contato com os dados, onde buscamos manipulá-los com ferramentas com **Pandas** e **Numpy**, afim de entender que tipo de dados estamos trabalhando, quais são as *features* que estão presentes.\n",
    "\n",
    "- Para que isso seja possível, estudamos os dados e realizamos a limpeza do mesmo, manipulando dados faltantes, excluindo dados duplicados e *outliers*, tornando o conjunto de dados pronto para a aplicação dos modelos.\n",
    "\n",
    "- Os dados que estamos trabalhando fazem parte do conjunto de DataFrames do site *Kaggle*, o link de acesso é [Dados](https://www.kaggle.com/datasets/dev0914sharma/customer-clustering/data), o site disponibiliza uma breve explicação do conteúdo dos dados. Em resumo, o DataFrame aborda informações de clientes que contém o cartão de fidelidade de um supermercado físico de \"FMCG\" e deseja utilizar estas informações para segmentar esses clientes. Esta segmentação seria útil para outros setores do estabelecimento tomarem decisões. Por exemplo, o setor de marketing conhecer o público-alvo de suas campanhas ou o setor de negócios planejar estratégias eficientes."
   ]
  },
  {
   "cell_type": "code",
   "execution_count": 6,
   "metadata": {},
   "outputs": [],
   "source": [
    "#importação das bibliotecas\n",
    "\n",
    "import pandas as pd \n",
    "import numpy as np\n",
    "import seaborn as sns  "
   ]
  },
  {
   "cell_type": "code",
   "execution_count": 2,
   "metadata": {},
   "outputs": [
    {
     "data": {
      "text/html": [
       "<div>\n",
       "<style scoped>\n",
       "    .dataframe tbody tr th:only-of-type {\n",
       "        vertical-align: middle;\n",
       "    }\n",
       "\n",
       "    .dataframe tbody tr th {\n",
       "        vertical-align: top;\n",
       "    }\n",
       "\n",
       "    .dataframe thead th {\n",
       "        text-align: right;\n",
       "    }\n",
       "</style>\n",
       "<table border=\"1\" class=\"dataframe\">\n",
       "  <thead>\n",
       "    <tr style=\"text-align: right;\">\n",
       "      <th></th>\n",
       "      <th>ID</th>\n",
       "      <th>Sex</th>\n",
       "      <th>Marital status</th>\n",
       "      <th>Age</th>\n",
       "      <th>Education</th>\n",
       "      <th>Income</th>\n",
       "      <th>Occupation</th>\n",
       "      <th>Settlement size</th>\n",
       "    </tr>\n",
       "  </thead>\n",
       "  <tbody>\n",
       "    <tr>\n",
       "      <th>0</th>\n",
       "      <td>100000001</td>\n",
       "      <td>0</td>\n",
       "      <td>0</td>\n",
       "      <td>67</td>\n",
       "      <td>2</td>\n",
       "      <td>124670</td>\n",
       "      <td>1</td>\n",
       "      <td>2</td>\n",
       "    </tr>\n",
       "    <tr>\n",
       "      <th>1</th>\n",
       "      <td>100000002</td>\n",
       "      <td>1</td>\n",
       "      <td>1</td>\n",
       "      <td>22</td>\n",
       "      <td>1</td>\n",
       "      <td>150773</td>\n",
       "      <td>1</td>\n",
       "      <td>2</td>\n",
       "    </tr>\n",
       "    <tr>\n",
       "      <th>2</th>\n",
       "      <td>100000003</td>\n",
       "      <td>0</td>\n",
       "      <td>0</td>\n",
       "      <td>49</td>\n",
       "      <td>1</td>\n",
       "      <td>89210</td>\n",
       "      <td>0</td>\n",
       "      <td>0</td>\n",
       "    </tr>\n",
       "    <tr>\n",
       "      <th>3</th>\n",
       "      <td>100000004</td>\n",
       "      <td>0</td>\n",
       "      <td>0</td>\n",
       "      <td>45</td>\n",
       "      <td>1</td>\n",
       "      <td>171565</td>\n",
       "      <td>1</td>\n",
       "      <td>1</td>\n",
       "    </tr>\n",
       "    <tr>\n",
       "      <th>4</th>\n",
       "      <td>100000005</td>\n",
       "      <td>0</td>\n",
       "      <td>0</td>\n",
       "      <td>53</td>\n",
       "      <td>1</td>\n",
       "      <td>149031</td>\n",
       "      <td>1</td>\n",
       "      <td>1</td>\n",
       "    </tr>\n",
       "    <tr>\n",
       "      <th>5</th>\n",
       "      <td>100000006</td>\n",
       "      <td>0</td>\n",
       "      <td>0</td>\n",
       "      <td>35</td>\n",
       "      <td>1</td>\n",
       "      <td>144848</td>\n",
       "      <td>0</td>\n",
       "      <td>0</td>\n",
       "    </tr>\n",
       "    <tr>\n",
       "      <th>6</th>\n",
       "      <td>100000007</td>\n",
       "      <td>0</td>\n",
       "      <td>0</td>\n",
       "      <td>53</td>\n",
       "      <td>1</td>\n",
       "      <td>156495</td>\n",
       "      <td>1</td>\n",
       "      <td>1</td>\n",
       "    </tr>\n",
       "    <tr>\n",
       "      <th>7</th>\n",
       "      <td>100000008</td>\n",
       "      <td>0</td>\n",
       "      <td>0</td>\n",
       "      <td>35</td>\n",
       "      <td>1</td>\n",
       "      <td>193621</td>\n",
       "      <td>2</td>\n",
       "      <td>1</td>\n",
       "    </tr>\n",
       "    <tr>\n",
       "      <th>8</th>\n",
       "      <td>100000009</td>\n",
       "      <td>0</td>\n",
       "      <td>1</td>\n",
       "      <td>61</td>\n",
       "      <td>2</td>\n",
       "      <td>151591</td>\n",
       "      <td>0</td>\n",
       "      <td>0</td>\n",
       "    </tr>\n",
       "    <tr>\n",
       "      <th>9</th>\n",
       "      <td>100000010</td>\n",
       "      <td>0</td>\n",
       "      <td>1</td>\n",
       "      <td>28</td>\n",
       "      <td>1</td>\n",
       "      <td>174646</td>\n",
       "      <td>2</td>\n",
       "      <td>0</td>\n",
       "    </tr>\n",
       "  </tbody>\n",
       "</table>\n",
       "</div>"
      ],
      "text/plain": [
       "          ID  Sex  Marital status  Age  Education  Income  Occupation  \\\n",
       "0  100000001    0               0   67          2  124670           1   \n",
       "1  100000002    1               1   22          1  150773           1   \n",
       "2  100000003    0               0   49          1   89210           0   \n",
       "3  100000004    0               0   45          1  171565           1   \n",
       "4  100000005    0               0   53          1  149031           1   \n",
       "5  100000006    0               0   35          1  144848           0   \n",
       "6  100000007    0               0   53          1  156495           1   \n",
       "7  100000008    0               0   35          1  193621           2   \n",
       "8  100000009    0               1   61          2  151591           0   \n",
       "9  100000010    0               1   28          1  174646           2   \n",
       "\n",
       "   Settlement size  \n",
       "0                2  \n",
       "1                2  \n",
       "2                0  \n",
       "3                1  \n",
       "4                1  \n",
       "5                0  \n",
       "6                1  \n",
       "7                1  \n",
       "8                0  \n",
       "9                0  "
      ]
     },
     "execution_count": 2,
     "metadata": {},
     "output_type": "execute_result"
    }
   ],
   "source": [
    "#carregamento dos dados\n",
    "\n",
    "df = pd.read_csv(\"/home/edmurcn/Documentos/MeusProjetos/Customer-Clustering/data/segmentation_data.csv\", header=0)\n",
    "df.head(10)"
   ]
  },
  {
   "cell_type": "markdown",
   "metadata": {},
   "source": [
    "- De acordo com as informações presentes no site e no arquivo [data_dictionary](https://docs.google.com/spreadsheets/d/1dP1ZB_Yuv610Fa1aw_rCSYrsighS44VB/edit?usp=drive_link&ouid=105591099330593823176&rtpof=true&sd=true), construi o seguinte dicionário para os dados:\n",
    "\n",
    "  - **ID**: Representa a identificação de cada cliente dentro do ambiente de gerenciamento do cartão;\n",
    "\n",
    "  - **Sex**: Representa o sexo biológico do cliente {0,1}, onde 0 é masculino e 1 feminino;\n",
    "\n",
    "  - **Marital Status**: Representa o estado civil dos cliente {0,1}, em que 0 é solteiro e 1 outros estados civis;\n",
    "\n",
    "  - **Age**: Representa a idade dos clientes;\n",
    "  \n",
    "  - **Education**: Representa o nível de escolaridade dos clientes {0,1,2,3}, em que 0 estão os níveis desconhecidos/outros, 1 até o ensino médio, 2 até a graduação e 3 até pós-graduação;\n",
    "\n",
    "  - **Income**: Representa a renda salarial anual dos clientes em dólares;\n",
    "\n",
    "  - **Occupation**: Representa o tipo de trabalho que o cliente atua {0,1,2}, onde 0 são desempregados/trabalho não qualificado, 1 são empregos qualificados/servidor e 2 são trabalhos muito qualificados/autoridades/administradores;\n",
    "\n",
    "  - **Settlement size**: Representa o tamanho da cidade em que o cliente mora {0,1,2}, 0 cidades pequenas, 1 cidades de porte médio e 2 grandes cidades.\n",
    "\n",
    "- Observamos que a maioria dos dados são categóricos e ordinais."
   ]
  },
  {
   "cell_type": "code",
   "execution_count": 3,
   "metadata": {},
   "outputs": [
    {
     "name": "stdout",
     "output_type": "stream",
     "text": [
      "ID                 0\n",
      "Sex                0\n",
      "Marital status     0\n",
      "Age                0\n",
      "Education          0\n",
      "Income             0\n",
      "Occupation         0\n",
      "Settlement size    0\n",
      "dtype: int64\n"
     ]
    }
   ],
   "source": [
    "#Explorando os dados para observar valores faltantes\n",
    "\n",
    "print(df.isna().sum())"
   ]
  },
  {
   "cell_type": "code",
   "execution_count": 4,
   "metadata": {},
   "outputs": [
    {
     "name": "stdout",
     "output_type": "stream",
     "text": [
      "               Age         Income\n",
      "count  2000.000000    2000.000000\n",
      "mean     35.909000  120954.419000\n",
      "std      11.719402   38108.824679\n",
      "min      18.000000   35832.000000\n",
      "25%      27.000000   97663.250000\n",
      "50%      33.000000  115548.500000\n",
      "75%      42.000000  138072.250000\n",
      "max      76.000000  309364.000000\n"
     ]
    }
   ],
   "source": [
    "#Explorando a estatística dos dados numéricos\n",
    "\n",
    "print(df[[\"Age\", \"Income\"]].describe())\n"
   ]
  },
  {
   "cell_type": "code",
   "execution_count": 9,
   "metadata": {},
   "outputs": [
    {
     "name": "stdout",
     "output_type": "stream",
     "text": [
      "\n",
      "Sex\n",
      "---------------\n",
      "0    0.543\n",
      "1    0.457\n",
      "Name: Sex, dtype: float64\n",
      "\n",
      "Marital status\n",
      "---------------\n",
      "0    0.5035\n",
      "1    0.4965\n",
      "Name: Marital status, dtype: float64\n",
      "\n",
      "Education\n",
      "---------------\n",
      "1    0.6930\n",
      "2    0.1455\n",
      "0    0.1435\n",
      "3    0.0180\n",
      "Name: Education, dtype: float64\n",
      "\n",
      "Occupation\n",
      "---------------\n",
      "1    0.5565\n",
      "0    0.3165\n",
      "2    0.1270\n",
      "Name: Occupation, dtype: float64\n",
      "\n",
      "Settlement size\n",
      "---------------\n",
      "0    0.4945\n",
      "1    0.2720\n",
      "2    0.2335\n",
      "Name: Settlement size, dtype: float64\n"
     ]
    }
   ],
   "source": [
    "#Explorando o balanceamento dentre os dados categóricos\n",
    "\n",
    "columns_categoricals = [\"Sex\", \"Marital status\", \"Education\", \"Occupation\", \"Settlement size\"]\n",
    "\n",
    "for column in columns_categoricals:\n",
    "    print()\n",
    "    print(column)\n",
    "    print(\"-\"*15)\n",
    "    print(df[column].value_counts(normalize=True))\n"
   ]
  },
  {
   "cell_type": "code",
   "execution_count": 8,
   "metadata": {},
   "outputs": [],
   "source": [
    "#Distribuição das features\n"
   ]
  },
  {
   "cell_type": "markdown",
   "metadata": {},
   "source": [
    "#### Tratamento dos dados\n",
    "\n",
    "- Observamos que os dados não possuem valores faltantes, além disso, os dados numéricos não possuem outliers e os dados categóricos aparentemente estão balanceados com exceção da classe de pós graduados, porém, vamos manter esta classe até que observamos alguma necessidade de retirá-la. A única alteração a ser feita nesta etapa será a exclusão da coluna **ID**, pois as informações que ela trás não são relevantes para os modelos."
   ]
  },
  {
   "cell_type": "code",
   "execution_count": 48,
   "metadata": {},
   "outputs": [],
   "source": [
    "# Exclusão da coluna ID\n",
    "\n",
    "df = df.drop(\"ID\", axis=1)\n",
    "df.to_csv(\"dados_tratado.csv\", index=False)"
   ]
  }
 ],
 "metadata": {
  "kernelspec": {
   "display_name": "base",
   "language": "python",
   "name": "python3"
  },
  "language_info": {
   "codemirror_mode": {
    "name": "ipython",
    "version": 3
   },
   "file_extension": ".py",
   "mimetype": "text/x-python",
   "name": "python",
   "nbconvert_exporter": "python",
   "pygments_lexer": "ipython3",
   "version": "3.11.3"
  }
 },
 "nbformat": 4,
 "nbformat_minor": 2
}
